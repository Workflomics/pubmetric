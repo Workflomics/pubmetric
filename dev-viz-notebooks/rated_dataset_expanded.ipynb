{
 "cells": [
  {
   "cell_type": "markdown",
   "metadata": {},
   "source": [
    "# Stats on the preliminary (because its bad) expanded rated dataset, covering Metabolomics and Genomics"
   ]
  },
  {
   "cell_type": "code",
   "execution_count": 12,
   "metadata": {},
   "outputs": [],
   "source": [
    "import os\n",
    "import matplotlib.pyplot as plt\n",
    "import sys\n",
    "sys.path.insert(0, os.path.abspath(os.path.join(os.getcwd(), '../src')))\n",
    "import seaborn as sns\n",
    "import matplotlib.pyplot as plt\n",
    "import numpy as np\n",
    "import pandas as pd\n",
    "import asyncio\n",
    "import json\n",
    "import nest_asyncio\n",
    "nest_asyncio.apply()\n",
    "import asyncio\n",
    "\n",
    "import pubmetric.network as nw\n",
    "import pubmetric.metrics as met\n",
    "import random\n",
    "import pubmetric.pckg_dev as dev\n",
    "import pubmetric.workflow as wf\n",
    "\n",
    "from style import palette"
   ]
  },
  {
   "cell_type": "code",
   "execution_count": 6,
   "metadata": {},
   "outputs": [
    {
     "name": "stdout",
     "output_type": "stream",
     "text": [
      "2024-08-16 14:11:19 - Loading graph from ../out/out_20240814142510/graph.pkl.\n",
      "2024-08-16 14:11:19 - Graph loaded from ../out/out_20240814142510/graph.pkl.\n",
      "2024-08-16 14:11:19 - Complete data download and graph creation took 0:00:00.020641\n",
      "2024-08-16 14:11:19 - Loading graph from ../out/out_20240814143203/graph.pkl.\n",
      "2024-08-16 14:11:19 - Graph loaded from ../out/out_20240814143203/graph.pkl.\n",
      "2024-08-16 14:11:19 - Complete data download and graph creation took 0:00:00.003561\n",
      "2024-08-16 14:11:19 - Loading graph from ../out/out_20240814151828/graph.pkl.\n",
      "2024-08-16 14:11:19 - Graph loaded from ../out/out_20240814151828/graph.pkl.\n",
      "2024-08-16 14:11:19 - Complete data download and graph creation took 0:00:00.020964\n"
     ]
    }
   ],
   "source": [
    "proteomics_path = '../out/out_20240814142510' \n",
    "proteomics_graph = asyncio.run(nw.create_network(inpath=proteomics_path, load_graph=True))\n",
    "\n",
    "metabolomics_path = '../out/out_20240814143203' \n",
    "metabolomics_graph = asyncio.run(nw.create_network(inpath=metabolomics_path, load_graph=True))\n",
    "\n",
    "genomics_path = '../out/out_20240814151828' \n",
    "genomics_graph = asyncio.run(nw.create_network(inpath=genomics_path, load_graph=True))\n",
    "\n",
    "graph_list = [proteomics_graph, metabolomics_graph, genomics_graph]\n",
    "graph_name_list = [\"Proteomics Domain\", \"Metabolomics Domain\", \"Genomics Domain\"]\n",
    "graph_stat_list = [(1874, 1527), (695, 585), (1778, 1540)] # (nr of tools in domain, tools in domain with pmid)"
   ]
  },
  {
   "cell_type": "code",
   "execution_count": 33,
   "metadata": {},
   "outputs": [],
   "source": [
    "genomics_workflow_list = []\n",
    "metabolomics_workflow_list = []\n",
    "\n",
    "for i in range(1,145):\n",
    "    if '8' in str(i) or '9' in str(i):\n",
    "        continue\n",
    "    cwl_file_path = f\"/home/alma/Documents/UU/Thesis/APE_UseCases/genomics_APE-2.4/CWL/candidate_workflow_{i}.cwl\" #\n",
    "    genomics_workflow = wf.parse_undocumented_workflows(genomics_graph, cwl_file_path)\n",
    "    genomics_workflow_list.append(genomics_workflow)\n",
    "\n",
    "for i in range(1,254):\n",
    "    if '8' in str(i) or '9' in str(i):\n",
    "        continue\n",
    "    cwl_file_path = f\"/home/alma/Documents/UU/Thesis/APE_UseCases/genomics_APE-2.4/metabolomics_3/CWL/candidate_workflow_{i}.cwl\"\n",
    "    metabolomics_workflow = wf.parse_undocumented_workflows(metabolomics_graph, cwl_file_path)\n",
    "    metabolomics_workflow_list.append(metabolomics_workflow)\n"
   ]
  },
  {
   "cell_type": "code",
   "execution_count": 60,
   "metadata": {},
   "outputs": [
    {
     "name": "stdout",
     "output_type": "stream",
     "text": [
      "Number of discarded workflows: 70\n",
      "Number of discarded workflows: 105\n",
      "66 30\n"
     ]
    }
   ],
   "source": [
    "genomics_workflow_list = []\n",
    "genomics_tools = []\n",
    "genomics_edges = []\n",
    "discarded_workflow_count = 0  \n",
    "\n",
    "# Process genomics workflows\n",
    "for i in range(1, 145):\n",
    "    if '8' in str(i) or '9' in str(i):\n",
    "        continue\n",
    "    cwl_file_path = f\"/home/alma/Documents/UU/Thesis/APE_UseCases/genomics_APE-2.4/CWL/candidate_workflow_{i}.cwl\"\n",
    "    workflow = wf.parse_undocumented_workflows(genomics_graph, cwl_file_path)\n",
    "    \n",
    "    if workflow['edges'] in [wf['edges'] for wf in genomics_workflow_list]:\n",
    "        print('Repetition')\n",
    "        continue\n",
    "\n",
    "    workflow_pmids = workflow['steps'].values()\n",
    "    if len([pmid for pmid in workflow_pmids if not pmid]) <= 1:\n",
    "        genomics_tools += workflow_pmids\n",
    "        genomics_edges += [(edge[0], edge[1]) for edge in workflow['edges']]\n",
    "        \n",
    "        genomics_workflow_list.append(workflow)\n",
    "    else:\n",
    "        discarded_workflow_count += 1\n",
    "\n",
    "print(f\"Number of discarded workflows: {discarded_workflow_count}\")\n",
    "\n",
    "metabolomics_workflow_list = []\n",
    "metabolomics_tools = []\n",
    "metabolomics_edges = []\n",
    "discarded_workflow_count = 0  # Counter for discarded workflows\n",
    "\n",
    "\n",
    "# Process metabolomics workflows\n",
    "for i in range(1, 254):\n",
    "    if '8' in str(i) or '9' in str(i):\n",
    "        continue\n",
    "    cwl_file_path = f\"/home/alma/Documents/UU/Thesis/APE_UseCases/genomics_APE-2.4/metabolomics_3/CWL/candidate_workflow_{i}.cwl\"\n",
    "    workflow = wf.parse_undocumented_workflows(metabolomics_graph, cwl_file_path)\n",
    "    \n",
    "    if workflow['edges'] in [ wf['edges'] for wf in metabolomics_workflow_list]:\n",
    "        print('Repetition')\n",
    "        continue\n",
    "\n",
    "    workflow_pmids = workflow['steps'].values()\n",
    "    if len([pmid for pmid in workflow_pmids if not pmid]) <= 1:\n",
    "\n",
    "        metabolomics_tools += workflow_pmids\n",
    "        metabolomics_edges += [(edge[0], edge[1]) for edge in workflow['edges']]\n",
    "        metabolomics_workflow_list.append(workflow)\n",
    "    else:\n",
    "        # Increment counter for discarded workflows\n",
    "        discarded_workflow_count += 1\n",
    "print(f\"Number of discarded workflows: {discarded_workflow_count}\")\n",
    "print(len(metabolomics_workflow_list), len(genomics_workflow_list))"
   ]
  },
  {
   "cell_type": "code",
   "execution_count": 62,
   "metadata": {},
   "outputs": [],
   "source": [
    "workflow_average_score = []\n",
    "connectivity_score = []\n",
    "citation_scores = []\n",
    "path_scores = []\n",
    "\n",
    "# Ensure genomics is the shorter list\n",
    "min_length = min(len(genomics_workflow_list), len(metabolomics_workflow_list))\n",
    "\n",
    "# Loop over the shorter length (genomics list)\n",
    "for i in range(min_length):\n",
    "    workflow = genomics_workflow_list[i]\n",
    "    metab_workflow = metabolomics_workflow_list[i]\n",
    "\n",
    "    workflow_average_score.append((\n",
    "        met.workflow_average_sum(graph=genomics_graph, workflow=workflow['pmid_edges']),\n",
    "        met.workflow_average_sum(graph=genomics_graph, workflow=metab_workflow['pmid_edges']),\n",
    "    ))\n",
    "\n",
    "    connectivity_score.append((\n",
    "        met.connectivity(graph=genomics_graph, workflow=workflow),\n",
    "        met.connectivity(graph=genomics_graph, workflow=metab_workflow),\n",
    "    ))\n",
    "\n",
    "    citation_scores.append((\n",
    "        met.median_citations(graph=genomics_graph, workflow=workflow),\n",
    "        met.median_citations(graph=genomics_graph, workflow=metab_workflow),\n",
    "    ))\n",
    "\n",
    "    path_scores.append((\n",
    "        met.shortest_path(graph=genomics_graph, workflow=workflow['pmid_edges']),\n",
    "        met.shortest_path(graph=genomics_graph, workflow=metab_workflow['pmid_edges']),\n",
    "    ))\n"
   ]
  },
  {
   "cell_type": "code",
   "execution_count": 63,
   "metadata": {},
   "outputs": [
    {
     "name": "stderr",
     "output_type": "stream",
     "text": [
      "/tmp/ipykernel_359816/160626853.py:14: UserWarning: No artists with labels found to put in legend.  Note that artists whose label start with an underscore are ignored when legend() is called with no argument.\n",
      "  ax.legend(loc='upper right', bbox_to_anchor=(1, 1))\n"
     ]
    },
    {
     "data": {
      "image/png": "[encoded data removed]",
      "text/plain": [
       "<Figure size 600x600 with 1 Axes>"
      ]
     },
     "metadata": {},
     "output_type": "display_data"
    }
   ],
   "source": [
    "fig, ax = plt.subplots(figsize=(6, 6))\n",
    "\n",
    "nr_bins = 100\n",
    "# Unpack the metrics\n",
    "ape_scores, completely_random_scores = zip(*workflow_average_score)\n",
    "# Invert the completely random scores\n",
    "\n",
    "# Plot the histogram\n",
    "sns.histplot(completely_random_scores, bins=nr_bins, ax=ax, color=palette[1])\n",
    "sns.histplot(ape_scores, bins=nr_bins, ax=ax, color=palette[0])\n",
    "\n",
    "# Set title and legend\n",
    "ax.set_title('Workflow Average Score')\n",
    "ax.legend(loc='upper right', bbox_to_anchor=(1, 1))\n",
    "# plt.xscale('log')\n",
    "plt.tight_layout()\n",
    "plt.show()\n"
   ]
  },
  {
   "cell_type": "code",
   "execution_count": 64,
   "metadata": {},
   "outputs": [
    {
     "name": "stdout",
     "output_type": "stream",
     "text": [
      "Number of unique genomics tools: 15\n",
      "Number of unique metabolomics tools: 9\n",
      "Number of unique genomics edges: 37\n",
      "Number of unique metabolomics edges: 26\n"
     ]
    }
   ],
   "source": [
    "unique_genomics_tools = np.unique([t for wf in genomics_workflow_list for t in wf['steps'].values() if t])\n",
    "unique_metabolomics_tools = np.unique([t for wf in metabolomics_workflow_list for t in wf['steps'].values() if t])\n",
    "\n",
    "unique_genomics_edges = np.unique([edge for wf in genomics_workflow_list for edge in wf['edges'] if edge])\n",
    "unique_metabolomics_edges = np.unique([edge for wf in metabolomics_workflow_list for edge in wf['edges'] if edge])\n",
    "\n",
    "print(f\"Number of unique genomics tools: {len(unique_genomics_tools)}\")\n",
    "print(f\"Number of unique metabolomics tools: {len(unique_metabolomics_tools)}\")\n",
    "\n",
    "print(f\"Number of unique genomics edges: {len(unique_genomics_edges)}\")\n",
    "print(f\"Number of unique metabolomics edges: {len(unique_metabolomics_edges)}\")\n"
   ]
  },
  {
   "cell_type": "markdown",
   "metadata": {},
   "source": [
    "Yeah we have to try that again"
   ]
  },
  {
   "cell_type": "markdown",
   "metadata": {},
   "source": []
  }
 ],
 "metadata": {
  "kernelspec": {
   "display_name": "WFQC",
   "language": "python",
   "name": "python3"
  },
  "language_info": {
   "codemirror_mode": {
    "name": "ipython",
    "version": 3
   },
   "file_extension": ".py",
   "mimetype": "text/x-python",
   "name": "python",
   "nbconvert_exporter": "python",
   "pygments_lexer": "ipython3",
   "version": "3.9.19"
  }
 },
 "nbformat": 4,
 "nbformat_minor": 2
}
