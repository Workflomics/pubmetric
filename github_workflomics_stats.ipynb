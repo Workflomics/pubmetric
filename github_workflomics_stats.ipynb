{
 "cells": [
  {
   "cell_type": "markdown",
   "metadata": {},
   "source": [
    "## Issues"
   ]
  },
  {
   "cell_type": "code",
   "execution_count": 8,
   "metadata": {},
   "outputs": [
    {
     "name": "stdout",
     "output_type": "stream",
     "text": [
      "Total open Issues: 78\n",
      "Total closed Issues: 69\n",
      "Total open Issues: 24\n",
      "Total closed Issues: 6\n"
     ]
    }
   ],
   "source": [
    "\n",
    "w_issues_open = { \"data\": { \"organization\": { \"repositories\": { \"nodes\": [ { \"name\": \"Internal_documenation\", \"issues\": { \"totalCount\": 6 } }, { \"name\": \"workflomics-frontend\", \"issues\": { \"totalCount\": 23 } }, { \"name\": \"tools-and-domains\", \"issues\": { \"totalCount\": 28 } }, { \"name\": \"domain-annotations\", \"issues\": { \"totalCount\": 3 } }, { \"name\": \"WOMBAT-Pipelines\", \"issues\": { \"totalCount\": 0 } }, { \"name\": \"DemoKit\", \"issues\": { \"totalCount\": 0 } }, { \"name\": \"designtime-bench-service\", \"issues\": { \"totalCount\": 0 } }, { \"name\": \".github\", \"issues\": { \"totalCount\": 0 } }, { \"name\": \"biohackathon_2023\", \"issues\": { \"totalCount\": 0 } }, { \"name\": \"workflomics-benchmarker\", \"issues\": { \"totalCount\": 3 } }, { \"name\": \"workflomics-readthedocs\", \"issues\": { \"totalCount\": 9 } }, { \"name\": \"IEEE-eScience-2024\", \"issues\": { \"totalCount\": 0 } }, { \"name\": \"pubmetric\", \"issues\": { \"totalCount\": 6 } }, { \"name\": \"pubmetric-develipment\", \"issues\": { \"totalCount\": 0 } } ], \"pageInfo\": { \"hasNextPage\": 0, \"endCursor\": \"Y3Vyc29yOnYyOpHOMqb6gg==\" } } } } }\n",
    "\n",
    "w_issues_closed = { \"data\": { \"organization\": { \"repositories\": { \"nodes\": [ { \"name\": \"Internal_documenation\", \"issues\": { \"totalCount\": 12 } }, { \"name\": \"workflomics-frontend\", \"issues\": { \"totalCount\": 9 } }, { \"name\": \"tools-and-domains\", \"issues\": { \"totalCount\": 17 } }, { \"name\": \"domain-annotations\", \"issues\": { \"totalCount\": 0 } }, { \"name\": \"WOMBAT-Pipelines\", \"issues\": { \"totalCount\": 0 } }, { \"name\": \"DemoKit\", \"issues\": { \"totalCount\": 0 } }, { \"name\": \"designtime-bench-service\", \"issues\": { \"totalCount\": 0 } }, { \"name\": \".github\", \"issues\": { \"totalCount\": 0 } }, { \"name\": \"biohackathon_2023\", \"issues\": { \"totalCount\": 0 } }, { \"name\": \"workflomics-benchmarker\", \"issues\": { \"totalCount\": 8 } }, { \"name\": \"workflomics-readthedocs\", \"issues\": { \"totalCount\": 0 } }, { \"name\": \"IEEE-eScience-2024\", \"issues\": { \"totalCount\": 0 } }, { \"name\": \"pubmetric\", \"issues\": { \"totalCount\": 23 } }, { \"name\": \"pubmetric-develipment\", \"issues\": { \"totalCount\": 0 } } ], \"pageInfo\": { \"hasNextPage\": 0, \"endCursor\": \"Y3Vyc29yOnYyOpHOMqb6gg==\" } } } } }\n",
    "\n",
    "\n",
    "\n",
    "w_pr_counts_open = [repo[\"issues\"][\"totalCount\"] for repo in w_issues_open[\"data\"][\"organization\"][\"repositories\"][\"nodes\"]]\n",
    "total_prs = sum(w_pr_counts_open)\n",
    "print(f\"Total open Issues: {total_prs}\")\n",
    "\n",
    "w_pr_counts_closed = [repo[\"issues\"][\"totalCount\"] for repo in w_issues_closed[\"data\"][\"organization\"][\"repositories\"][\"nodes\"]]\n",
    "total_prs = sum(w_pr_counts_closed)\n",
    "print(f\"Total closed Issues: {total_prs}\")\n",
    "\n",
    "\n",
    "a_issues_open = { \"data\": { \"organization\": { \"repositories\": { \"nodes\": [ { \"name\": \"APE\", \"issues\": { \"totalCount\": 9 } }, { \"name\": \"APE_UseCases\", \"issues\": { \"totalCount\": 0 } }, { \"name\": \"Burke_Docker\", \"issues\": { \"totalCount\": 0 } }, { \"name\": \"APE_readthedocs\", \"issues\": { \"totalCount\": 2 } }, { \"name\": \"Proteomics_domain_setup\", \"issues\": { \"totalCount\": 0 } }, { \"name\": \"APE-Web\", \"issues\": { \"totalCount\": 0 } }, { \"name\": \"Automated_Cascabel_Pipeline\", \"issues\": { \"totalCount\": 0 } }, { \"name\": \"SLTLx-ANTLR-to-JavaScript\", \"issues\": { \"totalCount\": 0 } }, { \"name\": \".github\", \"issues\": { \"totalCount\": 0 } }, { \"name\": \"restape\", \"issues\": { \"totalCount\": 13 } } ], \"pageInfo\": { \"hasNextPage\": 0, \"endCursor\": \"Y3Vyc29yOnYyOpHOJGjdug==\" } } } } }\n",
    "\n",
    "a_issues_closed = { \"data\": { \"organization\": { \"repositories\": { \"nodes\": [ { \"name\": \"APE\", \"issues\": { \"totalCount\": 5 } }, { \"name\": \"APE_UseCases\", \"issues\": { \"totalCount\": 0 } }, { \"name\": \"Burke_Docker\", \"issues\": { \"totalCount\": 0 } }, { \"name\": \"APE_readthedocs\", \"issues\": { \"totalCount\": 0 } }, { \"name\": \"Proteomics_domain_setup\", \"issues\": { \"totalCount\": 0 } }, { \"name\": \"APE-Web\", \"issues\": { \"totalCount\": 0 } }, { \"name\": \"Automated_Cascabel_Pipeline\", \"issues\": { \"totalCount\": 0 } }, { \"name\": \"SLTLx-ANTLR-to-JavaScript\", \"issues\": { \"totalCount\": 0 } }, { \"name\": \".github\", \"issues\": { \"totalCount\": 0 } }, { \"name\": \"restape\", \"issues\": { \"totalCount\": 1 } } ], \"pageInfo\": { \"hasNextPage\": 0, \"endCursor\": \"Y3Vyc29yOnYyOpHOJGjdug==\" } } } } }\n",
    "\n",
    "\n",
    "a_pr_counts_open = [repo[\"issues\"][\"totalCount\"] for repo in a_issues_open[\"data\"][\"organization\"][\"repositories\"][\"nodes\"]]\n",
    "total_prs = sum(a_pr_counts_open)\n",
    "print(f\"Total open Issues: {total_prs}\")\n",
    "\n",
    "a_pr_counts_closed = [repo[\"issues\"][\"totalCount\"] for repo in a_issues_closed[\"data\"][\"organization\"][\"repositories\"][\"nodes\"]]\n",
    "total_prs = sum(a_pr_counts_closed)\n",
    "print(f\"Total closed Issues: {total_prs}\")"
   ]
  },
  {
   "cell_type": "markdown",
   "metadata": {},
   "source": [
    "## PRs"
   ]
  },
  {
   "cell_type": "code",
   "execution_count": 10,
   "metadata": {},
   "outputs": [
    {
     "name": "stdout",
     "output_type": "stream",
     "text": [
      "Total PRs: 120\n",
      "Total PRs: 215\n"
     ]
    }
   ],
   "source": [
    "w_pr = { \"data\": { \"organization\": { \"repositories\": { \"nodes\": [ { \"name\": \"Internal_documenation\", \"pullRequests\": { \"totalCount\": 1 } }, { \"name\": \"workflomics-frontend\", \"pullRequests\": { \"totalCount\": 45 } }, { \"name\": \"tools-and-domains\", \"pullRequests\": { \"totalCount\": 34 } }, { \"name\": \"domain-annotations\", \"pullRequests\": { \"totalCount\": 5 } }, { \"name\": \"WOMBAT-Pipelines\", \"pullRequests\": { \"totalCount\": 0 } }, { \"name\": \"DemoKit\", \"pullRequests\": { \"totalCount\": 1 } }, { \"name\": \"designtime-bench-service\", \"pullRequests\": { \"totalCount\": 0 } }, { \"name\": \".github\", \"pullRequests\": { \"totalCount\": 0 } }, { \"name\": \"biohackathon_2023\", \"pullRequests\": { \"totalCount\": 0 } }, { \"name\": \"workflomics-benchmarker\", \"pullRequests\": { \"totalCount\": 9 } }, { \"name\": \"workflomics-readthedocs\", \"pullRequests\": { \"totalCount\": 13 } }, { \"name\": \"IEEE-eScience-2024\", \"pullRequests\": { \"totalCount\": 0 } }, { \"name\": \"pubmetric\", \"pullRequests\": { \"totalCount\": 12 } }, { \"name\": \"pubmetric-develipment\", \"pullRequests\": { \"totalCount\": 0 } } ], \"pageInfo\": { \"hasNextPage\": 0, \"endCursor\": \"Y3Vyc29yOnYyOpHOMqb6gg==\" } } } } }\n",
    "\n",
    "w_pr_count = [repo[\"pullRequests\"][\"totalCount\"] for repo in w_pr[\"data\"][\"organization\"][\"repositories\"][\"nodes\"]]\n",
    "\n",
    "total_prs = sum(w_pr_count)\n",
    "print(f\"Total PRs: {total_prs}\")\n",
    "\n",
    "a_pr = { \"data\": { \"organization\": { \"repositories\": { \"nodes\": [ { \"name\": \"APE\", \"pullRequests\": { \"totalCount\": 80 } }, { \"name\": \"APE_UseCases\", \"pullRequests\": { \"totalCount\": 7 } }, { \"name\": \"Burke_Docker\", \"pullRequests\": { \"totalCount\": 0 } }, { \"name\": \"APE_readthedocs\", \"pullRequests\": { \"totalCount\": 8 } }, { \"name\": \"Proteomics_domain_setup\", \"pullRequests\": { \"totalCount\": 3 } }, { \"name\": \"APE-Web\", \"pullRequests\": { \"totalCount\": 60 } }, { \"name\": \"Automated_Cascabel_Pipeline\", \"pullRequests\": { \"totalCount\": 0 } }, { \"name\": \"SLTLx-ANTLR-to-JavaScript\", \"pullRequests\": { \"totalCount\": 0 } }, { \"name\": \".github\", \"pullRequests\": { \"totalCount\": 0 } }, { \"name\": \"restape\", \"pullRequests\": { \"totalCount\": 57 } } ], \"pageInfo\": { \"hasNextPage\": 0, \"endCursor\": \"Y3Vyc29yOnYyOpHOJGjdug==\" } } } } }\n",
    "\n",
    "a_pr_count = [repo[\"pullRequests\"][\"totalCount\"] for repo in a_pr[\"data\"][\"organization\"][\"repositories\"][\"nodes\"]]\n",
    "\n",
    "total_prs = sum(a_pr_count)\n",
    "print(f\"Total PRs: {total_prs}\")\n",
    "\n"
   ]
  },
  {
   "cell_type": "markdown",
   "metadata": {},
   "source": [
    "## Commits"
   ]
  },
  {
   "cell_type": "code",
   "execution_count": 4,
   "metadata": {},
   "outputs": [
    {
     "name": "stdout",
     "output_type": "stream",
     "text": [
      "Total PRs: 1069\n",
      "Total PRs: 481\n"
     ]
    }
   ],
   "source": [
    "w_commits = { \"data\": { \"organization\": { \"repositories\": { \"nodes\": [ { \"name\": \"Internal_documenation\", \"defaultBranchRef\": { \"target\": { \"history\": { \"totalCount\": 45 } } } }, { \"name\": \"workflomics-frontend\", \"defaultBranchRef\": { \"target\": { \"history\": { \"totalCount\": 225 } } } }, { \"name\": \"tools-and-domains\", \"defaultBranchRef\": { \"target\": { \"history\": { \"totalCount\": 252 } } } }, { \"name\": \"domain-annotations\", \"defaultBranchRef\": { \"target\": { \"history\": { \"totalCount\": 58 } } } }, { \"name\": \"WOMBAT-Pipelines\", \"defaultBranchRef\": { \"target\": { \"history\": { \"totalCount\": 117 } } } }, { \"name\": \"DemoKit\", \"defaultBranchRef\": { \"target\": { \"history\": { \"totalCount\": 21 } } } }, { \"name\": \"designtime-bench-service\", \"defaultBranchRef\": { \"target\": { \"history\": { \"totalCount\": 4 } } } }, { \"name\": \".github\", \"defaultBranchRef\": { \"target\": { \"history\": { \"totalCount\": 34 } } } }, { \"name\": \"biohackathon_2023\", \"defaultBranchRef\": { \"target\": { \"history\": { \"totalCount\": 13 } } } }, { \"name\": \"workflomics-benchmarker\", \"defaultBranchRef\": { \"target\": { \"history\": { \"totalCount\": 56 } } } }, { \"name\": \"workflomics-readthedocs\", \"defaultBranchRef\": { \"target\": { \"history\": { \"totalCount\": 107 } } } }, { \"name\": \"IEEE-eScience-2024\", \"defaultBranchRef\": { \"target\": { \"history\": { \"totalCount\": 19 } } } }, { \"name\": \"pubmetric\", \"defaultBranchRef\": { \"target\": { \"history\": { \"totalCount\": 116 } } } }, { \"name\": \"pubmetric-develipment\", \"defaultBranchRef\": { \"target\": { \"history\": { \"totalCount\": 2 } } } } ], \"pageInfo\": { \"hasNextPage\": 0, \"endCursor\": \"Y3Vyc29yOnYyOpHOMqb6gg==\" } } } } }\n",
    "\n",
    "a_commits = { \"data\": { \"organization\": { \"repositories\": { \"nodes\": [ { \"name\": \"APE\", \"defaultBranchRef\": { \"target\": { \"history\": { \"totalCount\": 162 } } } }, { \"name\": \"APE_UseCases\", \"defaultBranchRef\": { \"target\": { \"history\": { \"totalCount\": 10 } } } }, { \"name\": \"Burke_Docker\", \"defaultBranchRef\": { \"target\": { \"history\": { \"totalCount\": 0 } } } }, { \"name\": \"APE_readthedocs\", \"defaultBranchRef\": { \"target\": { \"history\": { \"totalCount\": 56 } } } }, { \"name\": \"Proteomics_domain_setup\", \"defaultBranchRef\": { \"target\": { \"history\": { \"totalCount\": 0 } } } }, { \"name\": \"APE-Web\", \"defaultBranchRef\": { \"target\": { \"history\": { \"totalCount\": 11 } } } }, { \"name\": \"Automated_Cascabel_Pipeline\", \"defaultBranchRef\": { \"target\": { \"history\": { \"totalCount\": 0 } } } }, { \"name\": \"SLTLx-ANTLR-to-JavaScript\", \"defaultBranchRef\": { \"target\": { \"history\": { \"totalCount\": 0 } } } }, { \"name\": \".github\", \"defaultBranchRef\": { \"target\": { \"history\": { \"totalCount\": 9 } } } }, { \"name\": \"restape\", \"defaultBranchRef\": { \"target\": { \"history\": { \"totalCount\": 233 } } } } ], \"pageInfo\": { \"hasNextPage\": 0, \"endCursor\": \"Y3Vyc29yOnYyOpHOJGjdug==\" } } } } }\n",
    "\n",
    "w_pr_counts = [repo[\"defaultBranchRef\"][\"target\"][\"history\"][\"totalCount\"] for repo in w_commits[\"data\"][\"organization\"][\"repositories\"][\"nodes\"]]\n",
    "\n",
    "# summarise\n",
    "w_total_prs = sum(w_pr_counts)\n",
    "print(f\"Total PRs: {w_total_prs}\")\n",
    "\n",
    "a_pr_counts = [repo[\"defaultBranchRef\"][\"target\"][\"history\"][\"totalCount\"] for repo in a_commits[\"data\"][\"organization\"][\"repositories\"][\"nodes\"]]\n",
    "\n",
    "# summarise\n",
    "a_total_prs = sum(a_pr_counts)\n",
    "print(f\"Total PRs: {a_total_prs}\")"
   ]
  }
 ],
 "metadata": {
  "kernelspec": {
   "display_name": ".venv",
   "language": "python",
   "name": "python3"
  },
  "language_info": {
   "codemirror_mode": {
    "name": "ipython",
    "version": 3
   },
   "file_extension": ".py",
   "mimetype": "text/x-python",
   "name": "python",
   "nbconvert_exporter": "python",
   "pygments_lexer": "ipython3",
   "version": "3.11.2"
  }
 },
 "nbformat": 4,
 "nbformat_minor": 2
}
